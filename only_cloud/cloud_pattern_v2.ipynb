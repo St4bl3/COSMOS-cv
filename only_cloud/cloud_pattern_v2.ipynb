{
 "cells": [
  {
   "cell_type": "code",
   "execution_count": 9,
   "id": "2ab85533",
   "metadata": {},
   "outputs": [],
   "source": [
    "import os\n",
    "import glob\n",
    "import ctypes\n",
    "import h5py\n",
    "import numpy as np\n",
    "from tqdm import tqdm"
   ]
  },
  {
   "cell_type": "code",
   "execution_count": 10,
   "id": "557d99c9",
   "metadata": {},
   "outputs": [
    {
     "name": "stdout",
     "output_type": "stream",
     "text": [
      "Loaded zlibwapi.dll from C:\\Users\\dhanu\\.conda\\envs\\w\\Library\\bin\\zlibwapi.dll\n"
     ]
    }
   ],
   "source": [
    "try:\n",
    "    conda_prefix = os.environ.get('CONDA_PREFIX', '')\n",
    "    dll_path = os.path.join(conda_prefix, 'Library', 'bin', 'zlibwapi.dll')\n",
    "    ctypes.CDLL(dll_path)\n",
    "    print(f\"Loaded zlibwapi.dll from {dll_path}\")\n",
    "except Exception as e:\n",
    "    print(f\"Could not load zlibwapi.dll: {e}\")\n",
    "\n",
    "import tensorflow as tf\n",
    "from tensorflow.keras import layers, models\n"
   ]
  },
  {
   "cell_type": "code",
   "execution_count": 11,
   "id": "088891d4",
   "metadata": {},
   "outputs": [
    {
     "name": "stdout",
     "output_type": "stream",
     "text": [
      "1 GPU(s) detected\n"
     ]
    }
   ],
   "source": [
    "gpus = tf.config.list_physical_devices('GPU')\n",
    "if gpus:\n",
    "    for gpu in gpus:\n",
    "        tf.config.experimental.set_memory_growth(gpu, True)\n",
    "    print(f\"{len(gpus)} GPU(s) detected\")\n",
    "else:\n",
    "    print(\"No GPU detected, training will run on CPU\")\n"
   ]
  },
  {
   "cell_type": "markdown",
   "id": "9e099dd5",
   "metadata": {},
   "source": [
    "# Configuration"
   ]
  },
  {
   "cell_type": "code",
   "execution_count": 12,
   "id": "e561e3eb",
   "metadata": {},
   "outputs": [],
   "source": [
    "DATA_DIR    = r\"C:\\college\\CV\\COSMOS\\6C_full\"\n",
    "SEQ_LEN     = 3                # Number of past frames to use\n",
    "PATCH_SIZE  = 128              # Training patch size\n",
    "BATCH_SIZE  = 4\n",
    "EPOCHS      = 10\n",
    "THRESHOLD   = 265.0            # Cloud mask threshold (K)\n",
    "MODEL_PATH  = r\"C:\\college\\CV\\COSMOS\\cloud_model_v2.h5\"\n"
   ]
  },
  {
   "cell_type": "markdown",
   "id": "760a94db",
   "metadata": {},
   "source": [
    "# File list & sequence grouping\n"
   ]
  },
  {
   "cell_type": "code",
   "execution_count": 13,
   "id": "4310b92f",
   "metadata": {},
   "outputs": [],
   "source": [
    "all_files = sorted(glob.glob(os.path.join(DATA_DIR, \"*.h5\")))\n",
    "sequences = [all_files[i:i + SEQ_LEN + 1] for i in range(len(all_files) - SEQ_LEN)]"
   ]
  },
  {
   "cell_type": "markdown",
   "id": "d44bbbf9",
   "metadata": {},
   "source": [
    "# Data loading & augmentation\n"
   ]
  },
  {
   "cell_type": "code",
   "execution_count": 14,
   "id": "69c02773",
   "metadata": {},
   "outputs": [],
   "source": [
    "def load_sequence(seq_files):\n",
    "    \"\"\"Loads SEQ_LEN frames and computes the target cloud mask.\"\"\"\n",
    "    frames = []\n",
    "    for fp in seq_files[:SEQ_LEN]:\n",
    "        with h5py.File(fp, 'r') as f:\n",
    "            counts = f['IMG_TIR1'][0]            # (H, W)\n",
    "            lut    = f['IMG_TIR1_TEMP'][:]       # (1024,)\n",
    "            frames.append(lut[counts])\n",
    "    # target mask\n",
    "    with h5py.File(seq_files[-1], 'r') as f:\n",
    "        counts = f['IMG_TIR1'][0]\n",
    "        lut    = f['IMG_TIR1_TEMP'][:]\n",
    "        bt     = lut[counts]\n",
    "        mask   = (bt < THRESHOLD).astype(np.float32)\n",
    "    X = np.stack(frames, axis=0)[..., np.newaxis]  # (SEQ_LEN, H, W, 1)\n",
    "    y = mask[..., np.newaxis]                      # (H, W, 1)\n",
    "    return X, y\n",
    "\n",
    "def random_crop(X, y, size):\n",
    "    \"\"\"Randomly crops a patch of shape (SEQ_LEN, size, size, 1) and (size, size, 1).\"\"\"\n",
    "    t, H, W, _ = X.shape\n",
    "    i = np.random.randint(0, H - size)\n",
    "    j = np.random.randint(0, W - size)\n",
    "    return X[:, i:i+size, j:j+size, :], y[i:i+size, j:j+size, :]\n",
    "\n",
    "def data_generator(seqs, batch_size):\n",
    "    \"\"\"Yields batches of (X, y) with random crops.\"\"\"\n",
    "    while True:\n",
    "        idxs = np.random.permutation(len(seqs))\n",
    "        for start in range(0, len(seqs), batch_size):\n",
    "            batch_ids = idxs[start:start + batch_size]\n",
    "            Xb, yb = [], []\n",
    "            for bid in batch_ids:\n",
    "                X, y = load_sequence(seqs[bid])\n",
    "                Xc, yc = random_crop(X, y, PATCH_SIZE)\n",
    "                Xb.append(Xc); yb.append(yc)\n",
    "            yield np.stack(Xb), np.stack(yb)\n",
    "\n",
    "# Split into train/validation\n",
    "split_idx = int(0.9 * len(sequences))\n",
    "train_seqs = sequences[:split_idx]\n",
    "val_seqs   = sequences[split_idx:]\n",
    "steps_per_epoch   = len(train_seqs) // BATCH_SIZE\n",
    "validation_steps  = len(val_seqs)   // BATCH_SIZE\n",
    "\n",
    "train_gen = data_generator(train_seqs, BATCH_SIZE)\n",
    "val_gen   = data_generator(val_seqs, BATCH_SIZE)\n"
   ]
  },
  {
   "cell_type": "markdown",
   "id": "3af61201",
   "metadata": {},
   "source": [
    "# Model definition: ConvLSTM2D\n"
   ]
  },
  {
   "cell_type": "code",
   "execution_count": 15,
   "id": "fc743820",
   "metadata": {},
   "outputs": [],
   "source": [
    "inputs = layers.Input((SEQ_LEN, PATCH_SIZE, PATCH_SIZE, 1))\n",
    "x = layers.ConvLSTM2D(32, (3, 3), padding='same', return_sequences=True, activation='relu')(inputs)\n",
    "x = layers.BatchNormalization()(x)\n",
    "x = layers.ConvLSTM2D(16, (3, 3), padding='same', return_sequences=False, activation='relu')(x)\n",
    "x = layers.BatchNormalization()(x)\n",
    "outputs = layers.Conv2D(1, (1, 1), activation='sigmoid')(x)\n",
    "\n",
    "model = models.Model(inputs, outputs)\n",
    "\n",
    "# Custom IoU metric\n",
    "def iou_metric(y_true, y_pred):\n",
    "    y_pred = tf.cast(y_pred > 0.5, tf.float32)\n",
    "    inter = tf.reduce_sum(y_true * y_pred)\n",
    "    union = tf.reduce_sum(y_true) + tf.reduce_sum(y_pred) - inter\n",
    "    return inter / (union + 1e-7)\n",
    "\n",
    "model.compile(optimizer='adam',\n",
    "              loss='binary_crossentropy',\n",
    "              metrics=[iou_metric, 'accuracy'])\n"
   ]
  },
  {
   "cell_type": "markdown",
   "id": "6e17a09b",
   "metadata": {},
   "source": [
    "# Training loop with tqdm\n"
   ]
  },
  {
   "cell_type": "code",
   "execution_count": 16,
   "id": "e36e08e8",
   "metadata": {},
   "outputs": [
    {
     "name": "stdout",
     "output_type": "stream",
     "text": [
      "\n",
      "Epoch 1/10\n"
     ]
    },
    {
     "name": "stderr",
     "output_type": "stream",
     "text": [
      "Train: 100%|██████████| 201/201 [06:55<00:00,  2.07s/batch, loss=0.2578, iou=0.8217, acc=0.9497]\n",
      "Val: 100%|██████████| 22/22 [00:43<00:00,  1.96s/batch, v_loss=1.0852, v_iou=0.0002, v_acc=0.6704]\n"
     ]
    },
    {
     "name": "stdout",
     "output_type": "stream",
     "text": [
      "Val — loss: 0.7115, iou: 0.0031, acc: 0.7675\n",
      "\n",
      "Epoch 2/10\n"
     ]
    },
    {
     "name": "stderr",
     "output_type": "stream",
     "text": [
      "Train: 100%|██████████| 201/201 [06:38<00:00,  1.98s/batch, loss=0.2803, iou=0.5670, acc=0.9022]\n",
      "Val: 100%|██████████| 22/22 [00:41<00:00,  1.88s/batch, v_loss=0.3510, v_iou=0.0758, v_acc=0.8773]\n"
     ]
    },
    {
     "name": "stdout",
     "output_type": "stream",
     "text": [
      "Val — loss: 0.3420, iou: 0.3644, acc: 0.8527\n",
      "\n",
      "Epoch 3/10\n"
     ]
    },
    {
     "name": "stderr",
     "output_type": "stream",
     "text": [
      "Train: 100%|██████████| 201/201 [06:20<00:00,  1.89s/batch, loss=0.2302, iou=0.8156, acc=0.9088]\n",
      "Val: 100%|██████████| 22/22 [00:45<00:00,  2.07s/batch, v_loss=0.5937, v_iou=0.1064, v_acc=0.9029]\n"
     ]
    },
    {
     "name": "stdout",
     "output_type": "stream",
     "text": [
      "Val — loss: 0.8176, iou: 0.2928, acc: 0.7800\n",
      "\n",
      "Epoch 4/10\n"
     ]
    },
    {
     "name": "stderr",
     "output_type": "stream",
     "text": [
      "Train: 100%|██████████| 201/201 [06:45<00:00,  2.02s/batch, loss=0.1823, iou=0.6783, acc=0.9394]\n",
      "Val: 100%|██████████| 22/22 [00:39<00:00,  1.77s/batch, v_loss=0.2411, v_iou=0.0111, v_acc=0.9348]\n"
     ]
    },
    {
     "name": "stdout",
     "output_type": "stream",
     "text": [
      "Val — loss: 0.6536, iou: 0.2747, acc: 0.7996\n",
      "\n",
      "Epoch 5/10\n"
     ]
    },
    {
     "name": "stderr",
     "output_type": "stream",
     "text": [
      "Train: 100%|██████████| 201/201 [06:15<00:00,  1.87s/batch, loss=0.2413, iou=0.6807, acc=0.9118]\n",
      "Val: 100%|██████████| 22/22 [00:38<00:00,  1.77s/batch, v_loss=0.5181, v_iou=0.5470, v_acc=0.7761]\n"
     ]
    },
    {
     "name": "stdout",
     "output_type": "stream",
     "text": [
      "Val — loss: 0.3676, iou: 0.3438, acc: 0.8310\n",
      "\n",
      "Epoch 6/10\n"
     ]
    },
    {
     "name": "stderr",
     "output_type": "stream",
     "text": [
      "Train: 100%|██████████| 201/201 [06:19<00:00,  1.89s/batch, loss=0.1668, iou=0.5443, acc=0.9487]\n",
      "Val: 100%|██████████| 22/22 [00:39<00:00,  1.78s/batch, v_loss=0.2849, v_iou=0.4882, v_acc=0.8671]\n"
     ]
    },
    {
     "name": "stdout",
     "output_type": "stream",
     "text": [
      "Val — loss: 0.3689, iou: 0.4354, acc: 0.8362\n",
      "\n",
      "Epoch 7/10\n"
     ]
    },
    {
     "name": "stderr",
     "output_type": "stream",
     "text": [
      "Train: 100%|██████████| 201/201 [06:17<00:00,  1.88s/batch, loss=0.2465, iou=0.5742, acc=0.9105]\n",
      "Val: 100%|██████████| 22/22 [00:38<00:00,  1.77s/batch, v_loss=4.8797, v_iou=0.0001, v_acc=0.7296]\n"
     ]
    },
    {
     "name": "stdout",
     "output_type": "stream",
     "text": [
      "Val — loss: 3.1483, iou: 0.0004, acc: 0.7706\n",
      "\n",
      "Epoch 8/10\n"
     ]
    },
    {
     "name": "stderr",
     "output_type": "stream",
     "text": [
      "Train: 100%|██████████| 201/201 [06:21<00:00,  1.90s/batch, loss=0.5459, iou=0.4041, acc=0.7278]\n",
      "Val: 100%|██████████| 22/22 [00:39<00:00,  1.81s/batch, v_loss=0.3164, v_iou=0.7879, v_acc=0.9002]\n"
     ]
    },
    {
     "name": "stdout",
     "output_type": "stream",
     "text": [
      "Val — loss: 0.2735, iou: 0.6050, acc: 0.9024\n",
      "\n",
      "Epoch 9/10\n"
     ]
    },
    {
     "name": "stderr",
     "output_type": "stream",
     "text": [
      "Train: 100%|██████████| 201/201 [06:26<00:00,  1.92s/batch, loss=0.1206, iou=0.1574, acc=0.9919]\n",
      "Val: 100%|██████████| 22/22 [00:40<00:00,  1.82s/batch, v_loss=0.2530, v_iou=0.4891, v_acc=0.8988]\n"
     ]
    },
    {
     "name": "stdout",
     "output_type": "stream",
     "text": [
      "Val — loss: 0.3131, iou: 0.4169, acc: 0.8516\n",
      "\n",
      "Epoch 10/10\n"
     ]
    },
    {
     "name": "stderr",
     "output_type": "stream",
     "text": [
      "Train: 100%|██████████| 201/201 [06:22<00:00,  1.90s/batch, loss=0.1088, iou=0.8686, acc=0.9639]\n",
      "Val: 100%|██████████| 22/22 [00:39<00:00,  1.79s/batch, v_loss=0.2007, v_iou=0.7142, v_acc=0.9176]"
     ]
    },
    {
     "name": "stdout",
     "output_type": "stream",
     "text": [
      "Val — loss: 0.1889, iou: 0.5872, acc: 0.9232\n"
     ]
    },
    {
     "name": "stderr",
     "output_type": "stream",
     "text": [
      "\n"
     ]
    }
   ],
   "source": [
    "for epoch in range(EPOCHS):\n",
    "    print(f\"\\nEpoch {epoch+1}/{EPOCHS}\")\n",
    "    # Training\n",
    "    train_bar = tqdm(range(steps_per_epoch), desc='Train', unit='batch')\n",
    "    for _ in train_bar:\n",
    "        Xb, yb = next(train_gen)\n",
    "        loss, iou, acc = model.train_on_batch(Xb, yb)\n",
    "        train_bar.set_postfix({'loss': f\"{loss:.4f}\", 'iou': f\"{iou:.4f}\", 'acc': f\"{acc:.4f}\"})\n",
    "    # Validation\n",
    "    val_bar = tqdm(range(validation_steps), desc='Val', unit='batch')\n",
    "    val_metrics = []\n",
    "    for _ in val_bar:\n",
    "        Xv, yv = next(val_gen)\n",
    "        v_loss, v_iou, v_acc = model.test_on_batch(Xv, yv)\n",
    "        val_bar.set_postfix({'v_loss': f\"{v_loss:.4f}\", 'v_iou': f\"{v_iou:.4f}\", 'v_acc': f\"{v_acc:.4f}\"})\n",
    "        val_metrics.append((v_loss, v_iou, v_acc))\n",
    "    # average validation metrics\n",
    "    v_loss, v_iou, v_acc = np.mean(val_metrics, axis=0)\n",
    "    print(f\"Val — loss: {v_loss:.4f}, iou: {v_iou:.4f}, acc: {v_acc:.4f}\")\n"
   ]
  },
  {
   "cell_type": "markdown",
   "id": "2136f1da",
   "metadata": {},
   "source": [
    "\n",
    "# Save the trained model\n"
   ]
  },
  {
   "cell_type": "code",
   "execution_count": 17,
   "id": "73f65d84",
   "metadata": {},
   "outputs": [
    {
     "name": "stdout",
     "output_type": "stream",
     "text": [
      "Model saved to C:\\college\\CV\\COSMOS\\cloud_model_v2.h5\n"
     ]
    }
   ],
   "source": [
    "model.save(MODEL_PATH)\n",
    "print(f\"Model saved to {MODEL_PATH}\")"
   ]
  },
  {
   "cell_type": "code",
   "execution_count": 18,
   "id": "ac24c982",
   "metadata": {},
   "outputs": [
    {
     "name": "stdout",
     "output_type": "stream",
     "text": [
      "1/1 [==============================] - 0s 458ms/step\n",
      "1/1 [==============================] - 0s 23ms/step\n",
      "1/1 [==============================] - 0s 30ms/step\n",
      "1/1 [==============================] - 0s 28ms/step\n",
      "1/1 [==============================] - 0s 21ms/step\n",
      "1/1 [==============================] - 0s 21ms/step\n",
      "1/1 [==============================] - 0s 31ms/step\n",
      "1/1 [==============================] - 0s 25ms/step\n",
      "1/1 [==============================] - 0s 30ms/step\n",
      "1/1 [==============================] - 0s 24ms/step\n",
      "1/1 [==============================] - 0s 28ms/step\n",
      "1/1 [==============================] - 0s 30ms/step\n",
      "1/1 [==============================] - 0s 26ms/step\n",
      "1/1 [==============================] - 0s 27ms/step\n",
      "1/1 [==============================] - 0s 31ms/step\n",
      "1/1 [==============================] - 0s 21ms/step\n",
      "1/1 [==============================] - 0s 21ms/step\n",
      "1/1 [==============================] - 0s 31ms/step\n",
      "1/1 [==============================] - 0s 31ms/step\n",
      "1/1 [==============================] - 0s 26ms/step\n",
      "1/1 [==============================] - 0s 24ms/step\n",
      "1/1 [==============================] - 0s 26ms/step\n"
     ]
    },
    {
     "data": {
      "image/png": "[encoded data removed]",
      "text/plain": [
       "<Figure size 640x480 with 2 Axes>"
      ]
     },
     "metadata": {},
     "output_type": "display_data"
    },
    {
     "data": {
      "image/png": "[encoded data removed]",
      "text/plain": [
       "<Figure size 640x480 with 1 Axes>"
      ]
     },
     "metadata": {},
     "output_type": "display_data"
    },
    {
     "name": "stdout",
     "output_type": "stream",
     "text": [
      "Accuracy: 0.9129\n",
      "Precision: 0.9467\n",
      "Recall: 0.6741\n",
      "F1-score: 0.7875\n",
      "AUC: 0.9733\n"
     ]
    }
   ],
   "source": [
    "from sklearn.metrics import confusion_matrix, ConfusionMatrixDisplay, roc_curve, auc\n",
    "import matplotlib.pyplot as plt\n",
    "import numpy as np\n",
    "\n",
    "# Generate predictions and true labels from the validation set\n",
    "def evaluate_model_with_confusion_matrix(val_gen, steps, model):\n",
    "    y_true = []\n",
    "    y_pred_prob = []  # Store probabilities for ROC curve\n",
    "\n",
    "    for _ in range(steps):\n",
    "        Xv, yv = next(val_gen)\n",
    "        preds = model.predict(Xv)\n",
    "        y_pred_prob.extend(preds.flatten())  # Store probabilities\n",
    "        preds_binary = (preds > 0.5).astype(int)  # Binarize predictions\n",
    "        y_true.extend(yv.flatten())\n",
    "\n",
    "    y_true = np.array(y_true)\n",
    "    y_pred_binary = np.array((np.array(y_pred_prob) > 0.5).astype(int))  # Convert probabilities to binary predictions\n",
    "    y_pred_prob = np.array(y_pred_prob)\n",
    "\n",
    "    # Compute confusion matrix\n",
    "    cm = confusion_matrix(y_true, y_pred_binary)\n",
    "    disp = ConfusionMatrixDisplay(confusion_matrix=cm, display_labels=[\"No Cloud\", \"Cloud\"])\n",
    "\n",
    "    # Plot confusion matrix\n",
    "    disp.plot(cmap=plt.cm.Blues)\n",
    "    plt.title(\"Confusion Matrix\")\n",
    "    plt.show()\n",
    "\n",
    "    # Compute ROC curve and AUC\n",
    "    fpr, tpr, thresholds = roc_curve(y_true, y_pred_prob)\n",
    "    roc_auc = auc(fpr, tpr)\n",
    "\n",
    "    # Plot ROC curve\n",
    "    plt.figure()\n",
    "    plt.plot(fpr, tpr, color='darkorange', lw=2, label='ROC curve (area = %0.2f)' % roc_auc)\n",
    "    plt.plot([0, 1], [0, 1], color='navy', lw=2, linestyle='--')\n",
    "    plt.xlim([0.0, 1.0])\n",
    "    plt.ylim([0.0, 1.05])\n",
    "    plt.xlabel('False Positive Rate')\n",
    "    plt.ylabel('True Positive Rate')\n",
    "    plt.title('Receiver Operating Characteristic')\n",
    "    plt.legend(loc=\"lower right\")\n",
    "    plt.show()\n",
    "\n",
    "    # Print overall metrics\n",
    "    tn, fp, fn, tp = cm.ravel()\n",
    "    accuracy = (tp + tn) / (tp + tn + fp + fn)\n",
    "    precision = tp / (tp + fp)\n",
    "    recall = tp / (tp + fn)\n",
    "    f1_score = 2 * (precision * recall) / (precision + recall)\n",
    "\n",
    "    print(f\"Accuracy: {accuracy:.4f}\")\n",
    "    print(f\"Precision: {precision:.4f}\")\n",
    "    print(f\"Recall: {recall:.4f}\")\n",
    "    print(f\"F1-score: {f1_score:.4f}\")\n",
    "    print(f\"AUC: {roc_auc:.4f}\")\n",
    "\n",
    "\n",
    "# Call the function with validation generator\n",
    "evaluate_model_with_confusion_matrix(val_gen, validation_steps, model)"
   ]
  }
 ],
 "metadata": {
  "kernelspec": {
   "display_name": "w",
   "language": "python",
   "name": "python3"
  },
  "language_info": {
   "codemirror_mode": {
    "name": "ipython",
    "version": 3
   },
   "file_extension": ".py",
   "mimetype": "text/x-python",
   "name": "python",
   "nbconvert_exporter": "python",
   "pygments_lexer": "ipython3",
   "version": "3.9.20"
  }
 },
 "nbformat": 4,
 "nbformat_minor": 5
}
